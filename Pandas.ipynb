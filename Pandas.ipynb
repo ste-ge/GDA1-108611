{
 "cells": [
  {
   "cell_type": "markdown",
   "id": "58c38d11-9f90-43d7-a099-ce4cd830f6d3",
   "metadata": {},
   "source": [
    "# Introduction to Pandas DataFrames\n",
    "\n",
    "![Ein Pandabär mit einer Python :-)](Pandas.webp)\n",
    "\n",
    "[Pandas](https://pandas.pydata.org/) is a powerful and versatile library for Python, designed primarily for data manipulation and analysis. To quote from Nvidia’s website:\n",
    "\n",
    "> Pandas is the most popular software library for data manipulation and data analysis for the Python programming language. ([www.nvidia.com](https://www.nvidia.com/en-us/glossary/pandas-python/))\n",
    "\n",
    "Here is an (incomplete) list of some key functionalities provided by Pandas:\n",
    "\n",
    "1. **Data Structures**\n",
    "    - *Series*: One-dimensional labeled array capable of holding data of any type.\n",
    "    - *DataFrame*: Two-dimensional, size-mutable, potentially heterogeneous tabular data structure with labeled axes (rows and columns).\n",
    "2. **Data Manipulation**\n",
    "    - *Data Selection* and Indexing: Access data via labels, indices, or boolean masks (`.loc`, `.iloc`, `.at`, `.iat`).\n",
    "    - *Filtering*: Filter data based on conditions or queries.\n",
    "    - *Sorting*: Sort data by labels or values.\n",
    "    - *Handling Missing Data*: Identify, fill, or drop missing values (`isnull`, `dropna`, `fillna`).\n",
    "3. **Data Cleaning**\n",
    "    - *Dropping Duplicates*: Remove duplicate rows or columns.\n",
    "    - *Replacing Values*: Replace specific values in the DataFrame.\n",
    "    - *String Operations*: Perform operations on string data, like splitting, replacing, and - *pattern matching (`str.split`, `str.replace`).\n",
    "4. **Aggregation and Grouping**\n",
    "    - *Group By*: Split data into groups based on criteria, and perform aggregate functions like sum, mean, or custom operations.\n",
    "    - *Pivot Tables*: Create a pivot table to summarize data.\n",
    "5. **Merging and Joining**\n",
    "    - *Concatenation*: Combine multiple DataFrames along a particular axis.\n",
    "    - *Merging*: Merge DataFrames similar to SQL joins (`merge`, `join`).\n",
    "6. **Time Series**\n",
    "    - *Datetime Conversion*: Convert date and time data to a datetime object.\n",
    "    - *Resampling*: Aggregate data over a time period.\n",
    "    - *Time-based Indexing*: Access and manipulate time-series data easily with date indexing.\n",
    "7. **Statistical and Mathematical Operations**\n",
    "    - *Descriptive Statistics*: Compute summary statistics for DataFrame columns.\n",
    "    - *Correlation/ Covariance*: Calculate the pairwise correlation or covariance between columns.\n",
    "    - *Cumulative Operations*: Perform cumulative operations on data.\n",
    "\n",
    "At the heart of Pandas lies the DataFrame, a two-dimensional labeled data structure with columns of potentially different types, similar to a table in a relational database or an Excel spreadsheet. Understanding DataFrames is crucial for anyone looking to perform data analysis in Python."
   ]
  },
  {
   "cell_type": "markdown",
   "id": "f1d78bed-837b-4f26-90c1-a0ebe7a14f30",
   "metadata": {},
   "source": [
    "## What is a DataFrame?\n",
    "\n",
    "A DataFrame is a table-like structure in Pandas that consists of rows and columns, where each column can hold different data types (e.g., integers, floats, strings). You can think of it as a collection of Series objects, where each Series is a single column of data. DataFrames provide a highly efficient way to store and manipulate large datasets in memory."
   ]
  },
  {
   "cell_type": "markdown",
   "id": "3d6bf88b-3260-4b51-a6f0-1dcf66c8270e",
   "metadata": {},
   "source": [
    "## Creating a DataFrame\n",
    "\n",
    "There are several ways to create a DataFrame in Pandas, but some of the most common methods are:\n",
    "\n",
    "1. From a Dictionary\n",
    "2. From a List of Lists\n",
    "3. From a CSV File\n",
    "\n",
    "Below we take a look at the first two approaches.\n",
    "\n",
    "### Creating DataFrame from a Dictionary\n",
    "\n",
    "The following code will create a DataFrame with three columns: ‘Name’, ‘Age’, and ‘City’, and three rows corresponding to the data provided in the dictionary. To be able to use Pandas, we first have to import it. This is done using the command `import pandas as pd`, introducing the alias `pd` for Pandas."
   ]
  },
  {
   "cell_type": "code",
   "execution_count": 1,
   "id": "97030506-6a92-4a97-acdc-a2c771c19f65",
   "metadata": {},
   "outputs": [
    {
     "data": {
      "text/html": [
       "<div>\n",
       "<style scoped>\n",
       "    .dataframe tbody tr th:only-of-type {\n",
       "        vertical-align: middle;\n",
       "    }\n",
       "\n",
       "    .dataframe tbody tr th {\n",
       "        vertical-align: top;\n",
       "    }\n",
       "\n",
       "    .dataframe thead th {\n",
       "        text-align: right;\n",
       "    }\n",
       "</style>\n",
       "<table border=\"1\" class=\"dataframe\">\n",
       "  <thead>\n",
       "    <tr style=\"text-align: right;\">\n",
       "      <th></th>\n",
       "      <th>Name</th>\n",
       "      <th>Age</th>\n",
       "      <th>City</th>\n",
       "    </tr>\n",
       "  </thead>\n",
       "  <tbody>\n",
       "    <tr>\n",
       "      <th>0</th>\n",
       "      <td>Alice</td>\n",
       "      <td>25</td>\n",
       "      <td>New York</td>\n",
       "    </tr>\n",
       "    <tr>\n",
       "      <th>1</th>\n",
       "      <td>Bob</td>\n",
       "      <td>30</td>\n",
       "      <td>Los Angeles</td>\n",
       "    </tr>\n",
       "    <tr>\n",
       "      <th>2</th>\n",
       "      <td>Charlie</td>\n",
       "      <td>35</td>\n",
       "      <td>Chicago</td>\n",
       "    </tr>\n",
       "  </tbody>\n",
       "</table>\n",
       "</div>"
      ],
      "text/plain": [
       "      Name  Age         City\n",
       "0    Alice   25     New York\n",
       "1      Bob   30  Los Angeles\n",
       "2  Charlie   35      Chicago"
      ]
     },
     "execution_count": 1,
     "metadata": {},
     "output_type": "execute_result"
    }
   ],
   "source": [
    "import pandas as pd\n",
    "\n",
    "data = {\n",
    "    'Name': ['Alice', 'Bob', 'Charlie'],\n",
    "    'Age': [25, 30, 35],\n",
    "    'City': ['New York', 'Los Angeles', 'Chicago']\n",
    "}\n",
    "\n",
    "df = pd.DataFrame(data)\n",
    "df"
   ]
  },
  {
   "cell_type": "markdown",
   "id": "4fbe79fb-bf8f-44ae-8712-9a269d197e1c",
   "metadata": {},
   "source": [
    "### Creating DataFrame from a List of Lists\n",
    "\n",
    "Here, we create the DataFrame from a list of lists where each inner list represents the values for one row. Note that We explicitly specify the column names when creating the DataFrame."
   ]
  },
  {
   "cell_type": "code",
   "execution_count": 2,
   "id": "164fc449-5ebe-451c-8232-11fefd3cd70d",
   "metadata": {},
   "outputs": [
    {
     "data": {
      "text/html": [
       "<div>\n",
       "<style scoped>\n",
       "    .dataframe tbody tr th:only-of-type {\n",
       "        vertical-align: middle;\n",
       "    }\n",
       "\n",
       "    .dataframe tbody tr th {\n",
       "        vertical-align: top;\n",
       "    }\n",
       "\n",
       "    .dataframe thead th {\n",
       "        text-align: right;\n",
       "    }\n",
       "</style>\n",
       "<table border=\"1\" class=\"dataframe\">\n",
       "  <thead>\n",
       "    <tr style=\"text-align: right;\">\n",
       "      <th></th>\n",
       "      <th>Name</th>\n",
       "      <th>Age</th>\n",
       "      <th>City</th>\n",
       "    </tr>\n",
       "  </thead>\n",
       "  <tbody>\n",
       "    <tr>\n",
       "      <th>0</th>\n",
       "      <td>Alice</td>\n",
       "      <td>25</td>\n",
       "      <td>New York</td>\n",
       "    </tr>\n",
       "    <tr>\n",
       "      <th>1</th>\n",
       "      <td>Bob</td>\n",
       "      <td>30</td>\n",
       "      <td>Los Angeles</td>\n",
       "    </tr>\n",
       "    <tr>\n",
       "      <th>2</th>\n",
       "      <td>Charlie</td>\n",
       "      <td>35</td>\n",
       "      <td>Chicago</td>\n",
       "    </tr>\n",
       "  </tbody>\n",
       "</table>\n",
       "</div>"
      ],
      "text/plain": [
       "      Name  Age         City\n",
       "0    Alice   25     New York\n",
       "1      Bob   30  Los Angeles\n",
       "2  Charlie   35      Chicago"
      ]
     },
     "execution_count": 2,
     "metadata": {},
     "output_type": "execute_result"
    }
   ],
   "source": [
    "data = [\n",
    "    ['Alice', 25, 'New York'],\n",
    "    ['Bob', 30, 'Los Angeles'],\n",
    "    ['Charlie', 35, 'Chicago']\n",
    "]\n",
    "\n",
    "df = pd.DataFrame(data, columns=['Name', 'Age', 'City'])\n",
    "df"
   ]
  },
  {
   "cell_type": "markdown",
   "id": "06d29a79-89d0-4eff-a655-65894577a3a1",
   "metadata": {},
   "source": [
    "## Accessing Data in a DataFrame\n",
    "\n",
    "Once you have a DataFrame, you can access its data in various ways:\n",
    "\n",
    "- By column name:"
   ]
  },
  {
   "cell_type": "code",
   "execution_count": 3,
   "id": "23c51299-b7bc-47a3-a8c2-f22d0593425a",
   "metadata": {},
   "outputs": [
    {
     "data": {
      "text/plain": [
       "0      Alice\n",
       "1        Bob\n",
       "2    Charlie\n",
       "Name: Name, dtype: object"
      ]
     },
     "execution_count": 3,
     "metadata": {},
     "output_type": "execute_result"
    }
   ],
   "source": [
    "df['Name']"
   ]
  },
  {
   "cell_type": "markdown",
   "id": "25a60010-0403-4d0b-8872-1ac04a64bb7d",
   "metadata": {},
   "source": [
    "- By row index:"
   ]
  },
  {
   "cell_type": "code",
   "execution_count": 4,
   "id": "794673a3-02ed-40da-a997-29f031c80166",
   "metadata": {},
   "outputs": [
    {
     "data": {
      "text/plain": [
       "Name       Alice\n",
       "Age           25\n",
       "City    New York\n",
       "Name: 0, dtype: object"
      ]
     },
     "execution_count": 4,
     "metadata": {},
     "output_type": "execute_result"
    }
   ],
   "source": [
    "df.iloc[0]"
   ]
  },
  {
   "cell_type": "markdown",
   "id": "01192032-8e4c-4979-b793-a3192c954554",
   "metadata": {},
   "source": [
    "- Using both:"
   ]
  },
  {
   "cell_type": "code",
   "execution_count": 5,
   "id": "44c26441-8a93-4838-8781-3c1ca526fd36",
   "metadata": {},
   "outputs": [
    {
     "data": {
      "text/plain": [
       "'Alice'"
      ]
     },
     "execution_count": 5,
     "metadata": {},
     "output_type": "execute_result"
    }
   ],
   "source": [
    "df.loc[0, 'Name']"
   ]
  },
  {
   "cell_type": "markdown",
   "id": "11883f6b-6570-4b3d-b3d2-693d162ac13f",
   "metadata": {},
   "source": [
    "## Conclusion\n",
    "\n",
    "Pandas DataFrames are a fundamental tool in the data analysis toolkit for Python users. They provide a powerful way to organize, manipulate, and analyze data efficiently. Whether you’re working with small datasets or handling large-scale data, mastering DataFrames will allow you to tackle a wide range of data-related tasks with ease.\n",
    "\n",
    "In this introduction, we’ve covered the basics of what a DataFrame is, how to create one, and how to access columns, rows, and individual cells in a DataFrame. As you continue to explore Pandas, you’ll discover many more features and capabilities that make DataFrames an indispensable part of Python programming. The table below contains a number of resources related to Pandas.\n",
    "\n",
    "| **Resource**                                                                                              | **Description**  |\n",
    "| :-------------------------------------------------------------------------------------------------------- | :--------------------------------------------------- |\n",
    "| [Pandas Documentation](https://pandas.pydata.org/)                                                        | Official documentation for Pandas.                   |\n",
    "| [Python for Data Analysis](https://www.oreilly.com/library/view/python-for-data/9781491957653/)           | Comprehensive guide by Pandas creator, Wes McKinney. |\n",
    "| [Real Python: The Pandas DataFrame](https://realpython.com/pandas-dataframe/)                             | Tutorials on using Pandas for data analysis.         |\n",
    "| [Kaggle Pandas](https://www.kaggle.com/learn/pandas)                                                      | Free introductory course on Pandas by Kaggle.        |\n",
    "| [DataCamp Pandas Tutorial](https://www.datacamp.com/community/tutorials/pandas-tutorial-dataframe-python) | Detailed tutorials and exercises on Pandas.          |"
   ]
  }
 ],
 "metadata": {
  "kernelspec": {
   "display_name": "Python 3 (ipykernel)",
   "language": "python",
   "name": "python3"
  },
  "language_info": {
   "codemirror_mode": {
    "name": "ipython",
    "version": 3
   },
   "file_extension": ".py",
   "mimetype": "text/x-python",
   "name": "python",
   "nbconvert_exporter": "python",
   "pygments_lexer": "ipython3",
   "version": "3.13.1"
  }
 },
 "nbformat": 4,
 "nbformat_minor": 5
}
